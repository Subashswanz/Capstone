{
 "cells": [
  {
   "cell_type": "code",
   "execution_count": 10,
   "metadata": {},
   "outputs": [],
   "source": [
    "import pandas as pd\n",
    "import numpy as np\n",
    "import pandas_profiling\n"
   ]
  },
  {
   "cell_type": "code",
   "execution_count": 11,
   "metadata": {},
   "outputs": [],
   "source": [
    "df = pd.read_csv(\"orders.csv\")"
   ]
  },
  {
   "cell_type": "code",
   "execution_count": 12,
   "metadata": {},
   "outputs": [
    {
     "data": {
      "text/html": [
       "<div>\n",
       "<style scoped>\n",
       "    .dataframe tbody tr th:only-of-type {\n",
       "        vertical-align: middle;\n",
       "    }\n",
       "\n",
       "    .dataframe tbody tr th {\n",
       "        vertical-align: top;\n",
       "    }\n",
       "\n",
       "    .dataframe thead th {\n",
       "        text-align: right;\n",
       "    }\n",
       "</style>\n",
       "<table border=\"1\" class=\"dataframe\">\n",
       "  <thead>\n",
       "    <tr style=\"text-align: right;\">\n",
       "      <th></th>\n",
       "      <th>Unnamed: 0</th>\n",
       "      <th>ot_id</th>\n",
       "      <th>ot_order_id</th>\n",
       "      <th>ot_amount</th>\n",
       "      <th>order_id</th>\n",
       "      <th>order_created_date</th>\n",
       "      <th>order_processed_date</th>\n",
       "      <th>order_total_amount</th>\n",
       "      <th>order_merchant_order_number</th>\n",
       "      <th>order_total_amount.1</th>\n",
       "      <th>id</th>\n",
       "      <th>storename</th>\n",
       "      <th>member_id</th>\n",
       "      <th>country_id</th>\n",
       "      <th>city</th>\n",
       "      <th>state_id</th>\n",
       "      <th>postcode</th>\n",
       "      <th>payment_method_id</th>\n",
       "      <th>gender</th>\n",
       "      <th>membercreatedts</th>\n",
       "    </tr>\n",
       "  </thead>\n",
       "  <tbody>\n",
       "    <tr>\n",
       "      <th>0</th>\n",
       "      <td>0</td>\n",
       "      <td>98786.0</td>\n",
       "      <td>59907.0</td>\n",
       "      <td>4500.0</td>\n",
       "      <td>59907.0</td>\n",
       "      <td>2013-05-10 10:59:50.332419-05:00</td>\n",
       "      <td>2013-05-06 01:59:59-05:00</td>\n",
       "      <td>4500.0</td>\n",
       "      <td>X0177056-1</td>\n",
       "      <td>4500.0</td>\n",
       "      <td>9070</td>\n",
       "      <td>Hot Topic</td>\n",
       "      <td>143052</td>\n",
       "      <td>2.0</td>\n",
       "      <td>Vaughan</td>\n",
       "      <td>57.0</td>\n",
       "      <td>L4K 5H7</td>\n",
       "      <td>1</td>\n",
       "      <td>NaN</td>\n",
       "      <td>2013-02-28 08:43:18.120000-06:00</td>\n",
       "    </tr>\n",
       "    <tr>\n",
       "      <th>1</th>\n",
       "      <td>1</td>\n",
       "      <td>178909.0</td>\n",
       "      <td>110027.0</td>\n",
       "      <td>17474.0</td>\n",
       "      <td>110027.0</td>\n",
       "      <td>2013-08-30 22:16:02.136176-05:00</td>\n",
       "      <td>2013-08-30 20:31:32.222000-05:00</td>\n",
       "      <td>17474.0</td>\n",
       "      <td>33671895c73b4fe6922c2a19dc4afe35</td>\n",
       "      <td>17474.0</td>\n",
       "      <td>9254</td>\n",
       "      <td>Chapters-Indigo</td>\n",
       "      <td>155269</td>\n",
       "      <td>2.0</td>\n",
       "      <td>Mississauga</td>\n",
       "      <td>57.0</td>\n",
       "      <td>L5A2A7</td>\n",
       "      <td>1</td>\n",
       "      <td>NaN</td>\n",
       "      <td>2013-03-20 08:34:51.169000-05:00</td>\n",
       "    </tr>\n",
       "    <tr>\n",
       "      <th>2</th>\n",
       "      <td>2</td>\n",
       "      <td>127655.0</td>\n",
       "      <td>78232.0</td>\n",
       "      <td>397.0</td>\n",
       "      <td>78232.0</td>\n",
       "      <td>2013-06-26 06:18:02.573045-05:00</td>\n",
       "      <td>2013-06-23 22:50:44.132000-05:00</td>\n",
       "      <td>1587.0</td>\n",
       "      <td>583255776</td>\n",
       "      <td>1587.0</td>\n",
       "      <td>11248</td>\n",
       "      <td>Walmart Canada</td>\n",
       "      <td>10775</td>\n",
       "      <td>2.0</td>\n",
       "      <td>Montreal</td>\n",
       "      <td>58.0</td>\n",
       "      <td>H4N3E8</td>\n",
       "      <td>2</td>\n",
       "      <td>NaN</td>\n",
       "      <td>2012-10-06 09:32:20.496000-05:00</td>\n",
       "    </tr>\n",
       "    <tr>\n",
       "      <th>3</th>\n",
       "      <td>3</td>\n",
       "      <td>168920.0</td>\n",
       "      <td>103723.0</td>\n",
       "      <td>499.0</td>\n",
       "      <td>103723.0</td>\n",
       "      <td>2013-08-21 08:10:00.519457-05:00</td>\n",
       "      <td>2013-08-19 21:01:40.248000-05:00</td>\n",
       "      <td>499.0</td>\n",
       "      <td>13034311</td>\n",
       "      <td>499.0</td>\n",
       "      <td>11253</td>\n",
       "      <td>Beyond The Rack Canada</td>\n",
       "      <td>122041</td>\n",
       "      <td>2.0</td>\n",
       "      <td>Mascouche</td>\n",
       "      <td>58.0</td>\n",
       "      <td>J7k3w8</td>\n",
       "      <td>1</td>\n",
       "      <td>NaN</td>\n",
       "      <td>2013-02-01 15:47:27.180000-06:00</td>\n",
       "    </tr>\n",
       "    <tr>\n",
       "      <th>4</th>\n",
       "      <td>4</td>\n",
       "      <td>154352.0</td>\n",
       "      <td>94633.0</td>\n",
       "      <td>4027.0</td>\n",
       "      <td>94633.0</td>\n",
       "      <td>2013-08-02 14:46:02.940744-05:00</td>\n",
       "      <td>2013-08-02 13:26:07.925000-05:00</td>\n",
       "      <td>4027.0</td>\n",
       "      <td>78675e1466a042c281851ab6c002645e</td>\n",
       "      <td>4027.0</td>\n",
       "      <td>9254</td>\n",
       "      <td>Chapters-Indigo</td>\n",
       "      <td>177734</td>\n",
       "      <td>2.0</td>\n",
       "      <td>Calgary</td>\n",
       "      <td>65.0</td>\n",
       "      <td>T3H4Z6</td>\n",
       "      <td>1</td>\n",
       "      <td>NaN</td>\n",
       "      <td>2013-04-28 19:40:10.355000-05:00</td>\n",
       "    </tr>\n",
       "  </tbody>\n",
       "</table>\n",
       "</div>"
      ],
      "text/plain": [
       "   Unnamed: 0     ot_id  ot_order_id  ot_amount  order_id  \\\n",
       "0           0   98786.0      59907.0     4500.0   59907.0   \n",
       "1           1  178909.0     110027.0    17474.0  110027.0   \n",
       "2           2  127655.0      78232.0      397.0   78232.0   \n",
       "3           3  168920.0     103723.0      499.0  103723.0   \n",
       "4           4  154352.0      94633.0     4027.0   94633.0   \n",
       "\n",
       "                 order_created_date              order_processed_date  \\\n",
       "0  2013-05-10 10:59:50.332419-05:00         2013-05-06 01:59:59-05:00   \n",
       "1  2013-08-30 22:16:02.136176-05:00  2013-08-30 20:31:32.222000-05:00   \n",
       "2  2013-06-26 06:18:02.573045-05:00  2013-06-23 22:50:44.132000-05:00   \n",
       "3  2013-08-21 08:10:00.519457-05:00  2013-08-19 21:01:40.248000-05:00   \n",
       "4  2013-08-02 14:46:02.940744-05:00  2013-08-02 13:26:07.925000-05:00   \n",
       "\n",
       "   order_total_amount       order_merchant_order_number  order_total_amount.1  \\\n",
       "0              4500.0                        X0177056-1                4500.0   \n",
       "1             17474.0  33671895c73b4fe6922c2a19dc4afe35               17474.0   \n",
       "2              1587.0                         583255776                1587.0   \n",
       "3               499.0                          13034311                 499.0   \n",
       "4              4027.0  78675e1466a042c281851ab6c002645e                4027.0   \n",
       "\n",
       "      id               storename  member_id  country_id         city  \\\n",
       "0   9070               Hot Topic     143052         2.0      Vaughan   \n",
       "1   9254         Chapters-Indigo     155269         2.0  Mississauga   \n",
       "2  11248          Walmart Canada      10775         2.0     Montreal   \n",
       "3  11253  Beyond The Rack Canada     122041         2.0    Mascouche   \n",
       "4   9254         Chapters-Indigo     177734         2.0      Calgary   \n",
       "\n",
       "   state_id postcode  payment_method_id gender  \\\n",
       "0      57.0  L4K 5H7                  1    NaN   \n",
       "1      57.0   L5A2A7                  1    NaN   \n",
       "2      58.0   H4N3E8                  2    NaN   \n",
       "3      58.0   J7k3w8                  1    NaN   \n",
       "4      65.0   T3H4Z6                  1    NaN   \n",
       "\n",
       "                    membercreatedts  \n",
       "0  2013-02-28 08:43:18.120000-06:00  \n",
       "1  2013-03-20 08:34:51.169000-05:00  \n",
       "2  2012-10-06 09:32:20.496000-05:00  \n",
       "3  2013-02-01 15:47:27.180000-06:00  \n",
       "4  2013-04-28 19:40:10.355000-05:00  "
      ]
     },
     "execution_count": 12,
     "metadata": {},
     "output_type": "execute_result"
    }
   ],
   "source": [
    "df.head()"
   ]
  },
  {
   "cell_type": "code",
   "execution_count": 13,
   "metadata": {},
   "outputs": [
    {
     "data": {
      "application/vnd.jupyter.widget-view+json": {
       "model_id": "8048fb0a603d4a34b4f8e2e4aca410af",
       "version_major": 2,
       "version_minor": 0
      },
      "text/plain": [
       "Summarize dataset:   0%|          | 0/33 [00:00<?, ?it/s]"
      ]
     },
     "metadata": {},
     "output_type": "display_data"
    },
    {
     "data": {
      "application/vnd.jupyter.widget-view+json": {
       "model_id": "5f8ad3e4bdc5407fb1cc345744af73ca",
       "version_major": 2,
       "version_minor": 0
      },
      "text/plain": [
       "Generate report structure:   0%|          | 0/1 [00:00<?, ?it/s]"
      ]
     },
     "metadata": {},
     "output_type": "display_data"
    },
    {
     "data": {
      "application/vnd.jupyter.widget-view+json": {
       "model_id": "b6d095ff89b64bb8b8533e29eddb4586",
       "version_major": 2,
       "version_minor": 0
      },
      "text/plain": [
       "Render HTML:   0%|          | 0/1 [00:00<?, ?it/s]"
      ]
     },
     "metadata": {},
     "output_type": "display_data"
    },
    {
     "data": {
      "application/vnd.jupyter.widget-view+json": {
       "model_id": "dc679a1b2c074871baffc5314cfb8106",
       "version_major": 2,
       "version_minor": 0
      },
      "text/plain": [
       "Export report to file:   0%|          | 0/1 [00:00<?, ?it/s]"
      ]
     },
     "metadata": {},
     "output_type": "display_data"
    }
   ],
   "source": [
    "import pandas_profiling\n",
    "profile=pandas_profiling.ProfileReport(df)\n",
    "profile.to_file(\"profileoutputfile.html\")"
   ]
  }
 ],
 "metadata": {
  "kernelspec": {
   "display_name": "Python 3",
   "language": "python",
   "name": "python3"
  },
  "language_info": {
   "codemirror_mode": {
    "name": "ipython",
    "version": 3
   },
   "file_extension": ".py",
   "mimetype": "text/x-python",
   "name": "python",
   "nbconvert_exporter": "python",
   "pygments_lexer": "ipython3",
   "version": "3.7.6"
  }
 },
 "nbformat": 4,
 "nbformat_minor": 4
}
